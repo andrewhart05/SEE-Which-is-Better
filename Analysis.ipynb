{
 "cells": [
  {
   "cell_type": "markdown",
   "id": "a46073ff-a326-4d82-a89a-0db6941b0da5",
   "metadata": {},
   "source": [
    "# Which is Better Analysis\n",
    "\n",
    "This program will perform the calculation of Elo ratings and correlation of these ratings with fitness function distances for image data from thr Which is Better experiment."
   ]
  },
  {
   "cell_type": "markdown",
   "id": "95831fc3",
   "metadata": {},
   "source": [
    "We begin by importing the libraries we need and choosing our image and its corresponding data."
   ]
  },
  {
   "cell_type": "code",
   "execution_count": null,
   "id": "2c6d133e-1d04-4f3c-8e9f-52fc883bac08",
   "metadata": {},
   "outputs": [],
   "source": [
    "import pandas as pd\n",
    "import numpy as np\n",
    "import matplotlib.pylab as plt\n",
    "import EloAnalysis as EA\n",
    "import Correlation as Cor\n",
    "\n",
    "image = \"Waterbottle\"\n",
    "files = [f\"Which_Is_Better_Data/Dirk_{image}_choices_matrix.csv\",\n",
    "         f\"Which_Is_Better_Data/Maryam_{image}_choices_matrix.csv\",\n",
    "         f\"Which_Is_Better_Data/Nathan_{image}_choices_matrix.csv\",\n",
    "         f\"Which_Is_Better_Data/Doruk_{image}_choices_matrix.csv\",\n",
    "         f\"Which_Is_Better_Data/Andrew_{image}_choices_matrix.csv\"]\n"
   ]
  },
  {
   "cell_type": "markdown",
   "id": "37989bae",
   "metadata": {},
   "source": [
    "Now we will calculate and plot the raw Elo scores for this image set."
   ]
  },
  {
   "cell_type": "code",
   "execution_count": null,
   "id": "34108ce9",
   "metadata": {},
   "outputs": [],
   "source": [
    "K = 32\n",
    "initial_ratings = EA.process_files(files, K)\n",
    "sorted_ratings = sorted(initial_ratings.items(), key=lambda x: x[1], reverse=True)\n",
    "objects, ratings = zip(*sorted_ratings)  # Unpack the objects and their ratings\n",
    "EA.plot_ratings(objects, ratings, \"Raw Elo Scores\", \"Objects\", \"Elo Score\")"
   ]
  },
  {
   "cell_type": "markdown",
   "id": "8e798404",
   "metadata": {},
   "source": [
    "These will be more useful for comparison with fitness function results when normalized to a 0 to 1 scale, so we proceed with this and plot them once more."
   ]
  },
  {
   "cell_type": "code",
   "execution_count": null,
   "id": "0b4844e1",
   "metadata": {},
   "outputs": [],
   "source": [
    "normalized_scores = EA.sort_and_normalize_ratings(initial_ratings)\n",
    "distance_matrix, objects_list = EA.create_distance_matrix(normalized_scores)\n",
    "objects, normalized_ratings = zip(*normalized_scores)  # Unpack the objects and their normalized ratings\n",
    "EA.plot_ratings(objects, normalized_ratings, \"Normalized ELO Scores\", \"Objects\", \"Normalized Score\")"
   ]
  },
  {
   "cell_type": "markdown",
   "id": "1a21ba70",
   "metadata": {},
   "source": [
    "And now we'll export this to a CSV file for use in the regression analysis."
   ]
  },
  {
   "cell_type": "code",
   "execution_count": null,
   "id": "db4c3e8b",
   "metadata": {},
   "outputs": [],
   "source": [
    "distance_df = pd.DataFrame(distance_matrix, index=objects_list, columns=objects_list)\n",
    "csv_file_path = f'images/{image}/Elo_distance_matrix.csv'\n",
    "distance_df.to_csv(csv_file_path)"
   ]
  },
  {
   "cell_type": "markdown",
   "id": "587f9886",
   "metadata": {},
   "source": [
    "Now we'll produce the distance matrices for the fitness functions. It takes time to run all of the fitness functions, so this one may take a little while."
   ]
  },
  {
   "cell_type": "code",
   "execution_count": null,
   "id": "b61484ef-da46-444d-a34b-aa5a6310d9fa",
   "metadata": {},
   "outputs": [],
   "source": [
    "Cor.process_images_in_folder(f\"images/{image}\")"
   ]
  },
  {
   "cell_type": "markdown",
   "id": "6712a756",
   "metadata": {},
   "source": [
    "Then, finally, we'll run and visualize our linear regression."
   ]
  },
  {
   "cell_type": "code",
   "execution_count": null,
   "id": "70c227e4",
   "metadata": {},
   "outputs": [],
   "source": [
    "independent_csv = f'images/{image}/Elo_distance_matrix.csv'\n",
    "dependent_csvs = [f'images/{image}/FF_ML2DHD_V2_distance_matrix.csv', \n",
    "                  f'images/{image}/FF_Gamma_distance_matrix.csv',\n",
    "                  f'images/{image}/FF_Hamming_distance_matrix.csv',\n",
    "                  f'images/{image}/FF_ML2DHD_distance_matrix.csv']\n",
    "labels = ['FF_ML2DHD_V2', 'FF_Gamma', 'FF_Hamming', 'FF_ML2DHD']\n",
    "\n",
    "Cor.plot_regression(independent_csv, dependent_csvs, labels)\n",
    "Cor.perform_regression_significance_test(independent_csv, dependent_csvs, labels)"
   ]
  }
 ],
 "metadata": {
  "kernelspec": {
   "display_name": "Python 3 (ipykernel)",
   "language": "python",
   "name": "python3"
  },
  "language_info": {
   "codemirror_mode": {
    "name": "ipython",
    "version": 3
   },
   "file_extension": ".py",
   "mimetype": "text/x-python",
   "name": "python",
   "nbconvert_exporter": "python",
   "pygments_lexer": "ipython3",
   "version": "3.11.5"
  }
 },
 "nbformat": 4,
 "nbformat_minor": 5
}
