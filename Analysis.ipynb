{
 "cells": [
  {
   "cell_type": "markdown",
   "id": "a46073ff-a326-4d82-a89a-0db6941b0da5",
   "metadata": {},
   "source": [
    "# Which is Better Analysis\n",
    "\n",
    "This program will perform the calculation of Elo ratings and correlation of these ratings with fitness function distances for image data from thr Which is Better experiment."
   ]
  },
  {
   "cell_type": "markdown",
   "id": "95831fc3",
   "metadata": {},
   "source": [
    "We begin by importing the libraries we need and choosing our image and its corresponding data."
   ]
  },
  {
   "cell_type": "code",
   "execution_count": null,
   "id": "2c6d133e-1d04-4f3c-8e9f-52fc883bac08",
   "metadata": {},
   "outputs": [],
   "source": [
    "import pandas as pd\n",
    "import numpy as np\n",
    "import matplotlib.pylab as plt\n",
    "import matplotlib.pyplot as pplt\n",
    "import EloAnalysis as EA\n",
    "import Correlation as Cor\n",
    "import imageio.v2 as imageio\n",
    "import os\n",
    "\n",
    "image = \"Waterbottle\"\n",
    "files = [f\"Which_Is_Better_Data/Dirk_{image}_choices_matrix.csv\",\n",
    "         f\"Which_Is_Better_Data/Maryam_{image}_choices_matrix.csv\",\n",
    "         f\"Which_Is_Better_Data/Nathan_{image}_choices_matrix.csv\",\n",
    "         f\"Which_Is_Better_Data/Doruk_{image}_choices_matrix.csv\",\n",
    "         f\"Which_Is_Better_Data/Andrew_{image}_choices_matrix.csv\"]\n"
   ]
  },
  {
   "cell_type": "markdown",
   "id": "37989bae",
   "metadata": {},
   "source": [
    "Now we will calculate and plot the raw Elo scores for this image set."
   ]
  },
  {
   "cell_type": "code",
   "execution_count": null,
   "id": "34108ce9",
   "metadata": {},
   "outputs": [],
   "source": [
    "K = 32\n",
    "initial_ratings = EA.process_files(files, K)\n",
    "sorted_ratings = sorted(initial_ratings.items(), key=lambda x: x[1], reverse=True)\n",
    "objects, ratings = zip(*sorted_ratings)  # Unpack the objects and their ratings\n",
    "EA.plot_ratings(objects, ratings, \"Raw Elo Scores\", \"Objects\", \"Elo Score\")"
   ]
  },
  {
   "cell_type": "markdown",
   "id": "8e798404",
   "metadata": {},
   "source": [
    "These will be more useful for comparison with fitness function results when normalized to a 0 to 1 scale, so we proceed with this and plot them once more."
   ]
  },
  {
   "cell_type": "code",
   "execution_count": null,
   "id": "0b4844e1",
   "metadata": {},
   "outputs": [],
   "source": [
    "normalized_scores = EA.sort_and_normalize_ratings(initial_ratings)\n",
    "distance_matrix, objects_list = EA.create_distance_matrix(normalized_scores)\n",
    "objects, normalized_ratings = zip(*normalized_scores)  # Unpack the objects and their normalized ratings\n",
    "EA.plot_ratings(objects, normalized_ratings, \"Waterbottle - Normalized ELO Scores\", \"Objects\", \"Normalized Score\")"
   ]
  },
  {
   "cell_type": "markdown",
   "id": "166fed30",
   "metadata": {},
   "source": [
    "Let's take a look at the actual ground truth images in the order they were ranked, best to worst from left to right. Because of the simplified image naming convention for the data, we need to check what the file extension is for each image, which might take a few seconds."
   ]
  },
  {
   "cell_type": "code",
   "execution_count": null,
   "id": "5b286fb1",
   "metadata": {},
   "outputs": [],
   "source": [
    "N = len(objects)\n",
    "fig, axes = pplt.subplots(1, N, figsize=(30, 15))\n",
    "extensions = ['.png', '.jpg', '.jpeg']\n",
    "\n",
    "for i, ax in enumerate(axes):\n",
    "    base_path = f\"images/{image}/{image}_{objects[i]}\"\n",
    "    for ext in extensions:\n",
    "        try:\n",
    "            file_path = f\"{base_path}{ext}\"\n",
    "            im = imageio.imread(file_path)\n",
    "            ax.imshow(im)\n",
    "            ax.axis('off')\n",
    "            break  # Exit the loop if image is successfully read\n",
    "        except FileNotFoundError:\n",
    "            continue  # Try the next extension\n",
    "    else:\n",
    "        # This block executes if no file is found after trying all extensions\n",
    "        print(f\"File not found for {objects[i]} in any of the expected formats.\")"
   ]
  },
  {
   "cell_type": "markdown",
   "id": "1a21ba70",
   "metadata": {},
   "source": [
    "And now we'll export this to a CSV file for use in the regression analysis."
   ]
  },
  {
   "cell_type": "code",
   "execution_count": null,
   "id": "db4c3e8b",
   "metadata": {},
   "outputs": [],
   "source": [
    "distance_df = pd.DataFrame(distance_matrix, index=objects_list, columns=objects_list)\n",
    "csv_file_path = f'images/{image}/Elo_distance_matrix.csv'\n",
    "distance_df.to_csv(csv_file_path)"
   ]
  },
  {
   "cell_type": "markdown",
   "id": "587f9886",
   "metadata": {},
   "source": [
    "Now we'll produce the distance matrices for the fitness functions. It takes time to run all of the fitness functions, so this one may take a little while."
   ]
  },
  {
   "cell_type": "code",
   "execution_count": null,
   "id": "b61484ef-da46-444d-a34b-aa5a6310d9fa",
   "metadata": {},
   "outputs": [],
   "source": [
    "Cor.process_images_in_folder(f\"images/{image}\")"
   ]
  },
  {
   "cell_type": "markdown",
   "id": "e165a8da",
   "metadata": {},
   "source": [
    "To have tidy data, we will want the order of rows and columns as well as the names to be the same throughout all of the distance matrices, so we'll use some data cleaning functions to accomplish this."
   ]
  },
  {
   "cell_type": "code",
   "execution_count": null,
   "id": "a190ec09",
   "metadata": {},
   "outputs": [],
   "source": [
    "Cor.update_csv_labels(f'images/{image}')\n",
    "Cor.reorder_csv(f'images/{image}')"
   ]
  },
  {
   "cell_type": "markdown",
   "id": "6712a756",
   "metadata": {},
   "source": [
    "Then, finally, we'll run and visualize our linear regression."
   ]
  },
  {
   "cell_type": "code",
   "execution_count": null,
   "id": "70c227e4",
   "metadata": {},
   "outputs": [],
   "source": [
    "independent_csv = f'images/{image}/Elo_distance_matrix.csv'\n",
    "dependent_csvs = [f'images/{image}/FF_ML2DHD_V2_distance_matrix.csv', \n",
    "                  f'images/{image}/FF_Gamma_distance_matrix.csv',\n",
    "                  f'images/{image}/FF_Hamming_distance_matrix.csv',\n",
    "                  f'images/{image}/FF_ML2DHD_distance_matrix.csv']\n",
    "labels = ['MADLAD', 'Gamma', 'Hamming', 'LAD']\n",
    "\n",
    "Cor.plot_regression(independent_csv, dependent_csvs, labels)\n",
    "Cor.perform_regression_significance_test(independent_csv, dependent_csvs, labels)"
   ]
  },
  {
   "cell_type": "markdown",
   "id": "fde3092c",
   "metadata": {},
   "source": [
    "Since our correlations weren't very strong, comparison may be easier if we use a column chart as opposed to scatterplots."
   ]
  },
  {
   "cell_type": "code",
   "execution_count": null,
   "id": "aea48d3e",
   "metadata": {},
   "outputs": [],
   "source": [
    "r_squared = {\n",
    "    'Gamma': [0.001, 0.001, 0.16],\n",
    "    'Hamming': [0.001, 0.01, 0.001],\n",
    "    'LAD': [0.23, 0.49, 0.15],\n",
    "    'MADLAD': [0.16, 0.10, 0.06]\n",
    "}\n",
    "categories = list(r_squared.keys())\n",
    "image_labels = ['A Walk in the Park', 'Mushrooms', 'Waterbottle']\n",
    "colors = ['green', 'brown', 'blue']\n",
    "n_categories = len(categories)\n",
    "pos = np.arange(n_categories)\n",
    "bar_width = 0.2\n",
    "fig, ax = plt.subplots(figsize=(10, 6))\n",
    "\n",
    "for i, img in enumerate(image_labels):\n",
    "    r_squared_values = [r_squared[cat][i] for cat in categories]\n",
    "    ax.bar(pos + i*bar_width, r_squared_values, bar_width, label=img, color=colors[i])\n",
    "\n",
    "ax.set_xticks(pos + bar_width)\n",
    "ax.set_xticklabels(categories)\n",
    "ax.set_ylabel('$R^2$ Values')\n",
    "ax.set_title('$R^2$ Values by Fitness Function and Image')\n",
    "ax.legend(title='Images')\n",
    "\n",
    "plt.show()\n",
    "\n"
   ]
  },
  {
   "cell_type": "markdown",
   "id": "e2e0e228",
   "metadata": {},
   "source": [
    "We will also do the same thing for the p-values."
   ]
  },
  {
   "cell_type": "code",
   "execution_count": null,
   "id": "f92503d0",
   "metadata": {},
   "outputs": [],
   "source": [
    "p_value = {\n",
    "    'Gamma': [0.73, 0.78, 0.005],\n",
    "    'Hamming': [0.70, 0.53, 0.005],\n",
    "    'LAD': [0.005, 0.005, 0.005],\n",
    "    'MADLAD': [0.005, 0.02, 0.08]\n",
    "}\n",
    "categories = list(p_value.keys())\n",
    "image_labels = ['A Walk in the Park', 'Mushrooms', 'Waterbottle']\n",
    "colors = ['green', 'brown', 'blue']\n",
    "n_categories = len(categories)\n",
    "pos = np.arange(n_categories)\n",
    "bar_width = 0.2\n",
    "fig, ax = plt.subplots(figsize=(10, 6))\n",
    "\n",
    "for i, img in enumerate(image_labels):\n",
    "    p_values = [p_value[cat][i] for cat in categories]\n",
    "    ax.bar(pos + i*bar_width, p_values, bar_width, label=img, color=colors[i])\n",
    "\n",
    "ax.set_xticks(pos + bar_width)\n",
    "ax.set_xticklabels(categories)\n",
    "ax.set_ylabel('p Values')\n",
    "ax.set_title('p Values by Fitness Function and Image')\n",
    "ax.legend(title='Images')\n",
    "\n",
    "plt.show()"
   ]
  }
 ],
 "metadata": {
  "kernelspec": {
   "display_name": "Python 3 (ipykernel)",
   "language": "python",
   "name": "python3"
  },
  "language_info": {
   "codemirror_mode": {
    "name": "ipython",
    "version": 3
   },
   "file_extension": ".py",
   "mimetype": "text/x-python",
   "name": "python",
   "nbconvert_exporter": "python",
   "pygments_lexer": "ipython3",
   "version": "3.11.5"
  }
 },
 "nbformat": 4,
 "nbformat_minor": 5
}
